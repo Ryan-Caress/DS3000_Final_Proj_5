{
 "cells": [
  {
   "cell_type": "markdown",
   "id": "f2a0124e-53d5-4eed-ae78-6e9af59a85e1",
   "metadata": {},
   "source": [
    "INTRODUCTION:\n",
    "\n",
    "Are there any indicators that could help us predict the economic status of a country? My goal is to analyze the past 15-25 years worth of data regarding the GDP growth, unemployment rate and inflation rate of different areas of the world and see if there were any underlying indicators behind major recessions that could help us predict future recessions using machine learning. I would also like to explore the idea of picking statistics that aren't intuitively related and want to find out if there exists a correlation between the two. Furthermore with more information going around about how the education level around the world is going down around the world ever since covid, I want to study if it has a potential effect on the economy of the world. "
   ]
  },
  {
   "cell_type": "markdown",
   "id": "2957b82f-83c8-44b8-ab14-f06f752bef1f",
   "metadata": {},
   "source": [
    "I plan to use the world bank api to gather information regarding the economic status of different countries in the world which will help me understand the trends in modern history. Below I demonstrate my ability to read through the world bank api and it's not very difficult to use. "
   ]
  },
  {
   "cell_type": "code",
   "execution_count": 60,
   "id": "b16ed8eb-0d37-4c33-be3a-5f3a7e7c0e3b",
   "metadata": {},
   "outputs": [
    {
     "data": {
      "text/html": [
       "<div>\n",
       "<style scoped>\n",
       "    .dataframe tbody tr th:only-of-type {\n",
       "        vertical-align: middle;\n",
       "    }\n",
       "\n",
       "    .dataframe tbody tr th {\n",
       "        vertical-align: top;\n",
       "    }\n",
       "\n",
       "    .dataframe thead th {\n",
       "        text-align: right;\n",
       "    }\n",
       "</style>\n",
       "<table border=\"1\" class=\"dataframe\">\n",
       "  <thead>\n",
       "    <tr style=\"text-align: right;\">\n",
       "      <th></th>\n",
       "      <th>Country</th>\n",
       "      <th>Code</th>\n",
       "      <th>Year</th>\n",
       "      <th>GDP Growth (%)</th>\n",
       "      <th>Unemployment Rate (%)</th>\n",
       "      <th>Inflation Rate (%)</th>\n",
       "      <th>Foreign Direct Investment</th>\n",
       "    </tr>\n",
       "  </thead>\n",
       "  <tbody>\n",
       "    <tr>\n",
       "      <th>0</th>\n",
       "      <td>Africa Eastern and Southern</td>\n",
       "      <td>ZH</td>\n",
       "      <td>2022</td>\n",
       "      <td>3.553878</td>\n",
       "      <td>7.985202</td>\n",
       "      <td>10.773751</td>\n",
       "      <td>1.695914</td>\n",
       "    </tr>\n",
       "    <tr>\n",
       "      <th>1</th>\n",
       "      <td>Africa Eastern and Southern</td>\n",
       "      <td>ZH</td>\n",
       "      <td>2021</td>\n",
       "      <td>4.576393</td>\n",
       "      <td>8.577385</td>\n",
       "      <td>7.240978</td>\n",
       "      <td>5.012059</td>\n",
       "    </tr>\n",
       "    <tr>\n",
       "      <th>2</th>\n",
       "      <td>Africa Eastern and Southern</td>\n",
       "      <td>ZH</td>\n",
       "      <td>2020</td>\n",
       "      <td>-2.864293</td>\n",
       "      <td>8.191395</td>\n",
       "      <td>5.405162</td>\n",
       "      <td>1.361762</td>\n",
       "    </tr>\n",
       "    <tr>\n",
       "      <th>3</th>\n",
       "      <td>Africa Eastern and Southern</td>\n",
       "      <td>ZH</td>\n",
       "      <td>2019</td>\n",
       "      <td>2.194319</td>\n",
       "      <td>7.584419</td>\n",
       "      <td>4.653665</td>\n",
       "      <td>1.424519</td>\n",
       "    </tr>\n",
       "    <tr>\n",
       "      <th>4</th>\n",
       "      <td>Africa Eastern and Southern</td>\n",
       "      <td>ZH</td>\n",
       "      <td>2018</td>\n",
       "      <td>2.666632</td>\n",
       "      <td>7.360513</td>\n",
       "      <td>4.720805</td>\n",
       "      <td>1.272290</td>\n",
       "    </tr>\n",
       "    <tr>\n",
       "      <th>...</th>\n",
       "      <td>...</td>\n",
       "      <td>...</td>\n",
       "      <td>...</td>\n",
       "      <td>...</td>\n",
       "      <td>...</td>\n",
       "      <td>...</td>\n",
       "      <td>...</td>\n",
       "    </tr>\n",
       "    <tr>\n",
       "      <th>64</th>\n",
       "      <td>Arab World</td>\n",
       "      <td>1A</td>\n",
       "      <td>2004</td>\n",
       "      <td>9.076593</td>\n",
       "      <td>11.433002</td>\n",
       "      <td>3.632280</td>\n",
       "      <td>1.199791</td>\n",
       "    </tr>\n",
       "    <tr>\n",
       "      <th>65</th>\n",
       "      <td>Arab World</td>\n",
       "      <td>1A</td>\n",
       "      <td>2003</td>\n",
       "      <td>4.281254</td>\n",
       "      <td>12.456351</td>\n",
       "      <td>2.712592</td>\n",
       "      <td>1.144935</td>\n",
       "    </tr>\n",
       "    <tr>\n",
       "      <th>66</th>\n",
       "      <td>Arab World</td>\n",
       "      <td>1A</td>\n",
       "      <td>2002</td>\n",
       "      <td>1.229342</td>\n",
       "      <td>12.512530</td>\n",
       "      <td>1.832994</td>\n",
       "      <td>0.666657</td>\n",
       "    </tr>\n",
       "    <tr>\n",
       "      <th>67</th>\n",
       "      <td>Arab World</td>\n",
       "      <td>1A</td>\n",
       "      <td>2001</td>\n",
       "      <td>2.103103</td>\n",
       "      <td>12.505882</td>\n",
       "      <td>1.772204</td>\n",
       "      <td>0.693799</td>\n",
       "    </tr>\n",
       "    <tr>\n",
       "      <th>68</th>\n",
       "      <td>Arab World</td>\n",
       "      <td>1A</td>\n",
       "      <td>2000</td>\n",
       "      <td>6.354123</td>\n",
       "      <td>12.627487</td>\n",
       "      <td>1.853790</td>\n",
       "      <td>0.473471</td>\n",
       "    </tr>\n",
       "  </tbody>\n",
       "</table>\n",
       "<p>69 rows × 7 columns</p>\n",
       "</div>"
      ],
      "text/plain": [
       "                        Country Code  Year  GDP Growth (%)  \\\n",
       "0   Africa Eastern and Southern   ZH  2022        3.553878   \n",
       "1   Africa Eastern and Southern   ZH  2021        4.576393   \n",
       "2   Africa Eastern and Southern   ZH  2020       -2.864293   \n",
       "3   Africa Eastern and Southern   ZH  2019        2.194319   \n",
       "4   Africa Eastern and Southern   ZH  2018        2.666632   \n",
       "..                          ...  ...   ...             ...   \n",
       "64                   Arab World   1A  2004        9.076593   \n",
       "65                   Arab World   1A  2003        4.281254   \n",
       "66                   Arab World   1A  2002        1.229342   \n",
       "67                   Arab World   1A  2001        2.103103   \n",
       "68                   Arab World   1A  2000        6.354123   \n",
       "\n",
       "    Unemployment Rate (%)  Inflation Rate (%)  Foreign Direct Investment  \n",
       "0                7.985202           10.773751                   1.695914  \n",
       "1                8.577385            7.240978                   5.012059  \n",
       "2                8.191395            5.405162                   1.361762  \n",
       "3                7.584419            4.653665                   1.424519  \n",
       "4                7.360513            4.720805                   1.272290  \n",
       "..                    ...                 ...                        ...  \n",
       "64              11.433002            3.632280                   1.199791  \n",
       "65              12.456351            2.712592                   1.144935  \n",
       "66              12.512530            1.832994                   0.666657  \n",
       "67              12.505882            1.772204                   0.693799  \n",
       "68              12.627487            1.853790                   0.473471  \n",
       "\n",
       "[69 rows x 7 columns]"
      ]
     },
     "execution_count": 60,
     "metadata": {},
     "output_type": "execute_result"
    }
   ],
   "source": [
    "import requests\n",
    "import pandas as pd\n",
    "\n",
    "# merged_df = pd.DataFrame()\n",
    "\n",
    "# Define indicators\n",
    "gdp_indicator = \"NY.GDP.MKTP.KD.ZG\"  # GDP Growth (%)\n",
    "unemployment_indicator = \"SL.UEM.TOTL.ZS\"  # Unemployment Rate (%)\n",
    "inflation_indicator = \"FP.CPI.TOTL.ZG\"  # Inflation Rate (%)\n",
    "fdi_indicator = \"BX.KLT.DINV.WD.GD.ZS\" # FDI Amount ($)\n",
    "\n",
    "years = list(range(2000, 2023))\n",
    "\n",
    "# Function that gets all data from World Bank API\n",
    "def fetch_data(indicator):\n",
    "    url = f\"http://api.worldbank.org/v2/country/all/indicator/{indicator}?date={years[0]}:{years[-1]}&format=json&per_page=1000\"\n",
    "    response = requests.get(url)\n",
    "    data = response.json()\n",
    "\n",
    "    return pd.DataFrame([\n",
    "        {\"Country\": entry[\"country\"][\"value\"],\n",
    "         \"Code\": entry[\"country\"][\"id\"],\n",
    "         \"Year\": entry[\"date\"],\n",
    "         \"Value\": entry[\"value\"]}\n",
    "        for entry in data[1]\n",
    "    ]) if isinstance(data, list) and len(data) > 1 else pd.DataFrame()\n",
    "\n",
    "# Get data for each indicator\n",
    "gdp_df = fetch_data(gdp_indicator).rename(columns={\"Value\": \"GDP Growth (%)\"})\n",
    "unemployment_df = fetch_data(unemployment_indicator).rename(columns={\"Value\": \"Unemployment Rate (%)\"})\n",
    "inflation_df = fetch_data(inflation_indicator).rename(columns={\"Value\": \"Inflation Rate (%)\"})\n",
    "fdi_df = fetch_data(fdi_indicator).rename(columns={\"Value\": \"Foreign Direct Investment\"})\n",
    "\n",
    "\n",
    " # Merge all the coloumns\n",
    "merged_df = gdp_df.merge(unemployment_df, on=[\"Country\",\"Code\", \"Year\"], how=\"outer\")\n",
    "merged_df = merged_df.merge(inflation_df, on=[\"Country\", \"Code\", \"Year\"], how=\"outer\")\n",
    "merged_df = merged_df.merge(fdi_df, on=[\"Country\", \"Code\",\"Year\"], how=\"outer\")\n",
    "\n",
    "\n",
    "# Save to CSV\n",
    "merged_df.to_csv(\"foundationsOfDataScienceProject.csv\")\n",
    "\n",
    "merged_df[: 69]"
   ]
  },
  {
   "cell_type": "code",
   "execution_count": 61,
   "id": "cbcd7609",
   "metadata": {},
   "outputs": [
    {
     "data": {
      "application/vnd.plotly.v1+json": {
       "config": {
        "plotlyServerURL": "https://plot.ly"
       },
       "data": [
        {
         "alignmentgroup": "True",
         "hovertemplate": "Country=%{x}<br>GDP Growth (%)=%{y}<extra></extra>",
         "legendgroup": "Africa Eastern and Southern",
         "marker": {
          "color": "#636efa"
         },
         "name": "Africa Eastern and Southern",
         "notched": false,
         "offsetgroup": "Africa Eastern and Southern",
         "orientation": "v",
         "showlegend": true,
         "type": "box",
         "x": [
          "Africa Eastern and Southern",
          "Africa Eastern and Southern",
          "Africa Eastern and Southern",
          "Africa Eastern and Southern",
          "Africa Eastern and Southern",
          "Africa Eastern and Southern",
          "Africa Eastern and Southern",
          "Africa Eastern and Southern",
          "Africa Eastern and Southern",
          "Africa Eastern and Southern",
          "Africa Eastern and Southern",
          "Africa Eastern and Southern",
          "Africa Eastern and Southern",
          "Africa Eastern and Southern",
          "Africa Eastern and Southern",
          "Africa Eastern and Southern",
          "Africa Eastern and Southern",
          "Africa Eastern and Southern",
          "Africa Eastern and Southern",
          "Africa Eastern and Southern",
          "Africa Eastern and Southern",
          "Africa Eastern and Southern",
          "Africa Eastern and Southern"
         ],
         "x0": " ",
         "xaxis": "x",
         "y": [
          3.5538783639465,
          4.57639280212379,
          -2.86429251059899,
          2.19431852727669,
          2.66663182841025,
          2.68454305378008,
          2.19476089054338,
          3.00493689926236,
          3.99286255244824,
          4.34145784484552,
          1.74687118542334,
          4.06494136637872,
          5.23163580247821,
          0.87098396360399,
          4.36818668473381,
          6.64702099527723,
          6.57787371800819,
          6.16338004310487,
          5.55539685526702,
          2.95624126239153,
          3.83607799272289,
          3.50572646872058,
          3.21494609894005
         ],
         "y0": " ",
         "yaxis": "y"
        },
        {
         "alignmentgroup": "True",
         "hovertemplate": "Country=%{x}<br>GDP Growth (%)=%{y}<extra></extra>",
         "legendgroup": "Africa Western and Central",
         "marker": {
          "color": "#EF553B"
         },
         "name": "Africa Western and Central",
         "notched": false,
         "offsetgroup": "Africa Western and Central",
         "orientation": "v",
         "showlegend": true,
         "type": "box",
         "x": [
          "Africa Western and Central",
          "Africa Western and Central",
          "Africa Western and Central",
          "Africa Western and Central",
          "Africa Western and Central",
          "Africa Western and Central",
          "Africa Western and Central",
          "Africa Western and Central",
          "Africa Western and Central",
          "Africa Western and Central",
          "Africa Western and Central",
          "Africa Western and Central",
          "Africa Western and Central",
          "Africa Western and Central",
          "Africa Western and Central",
          "Africa Western and Central",
          "Africa Western and Central",
          "Africa Western and Central",
          "Africa Western and Central",
          "Africa Western and Central",
          "Africa Western and Central",
          "Africa Western and Central",
          "Africa Western and Central"
         ],
         "x0": " ",
         "xaxis": "x",
         "y": [
          3.78967984579947,
          4.03762951350967,
          -1.00399403959297,
          3.232902511937,
          2.84475541662378,
          2.28981037958782,
          0.160782096930689,
          2.72036453616364,
          5.92002296138435,
          6.16002884290569,
          5.16821883676933,
          4.85302784241522,
          6.96952403983727,
          6.27187828235533,
          6.27862923104867,
          5.53076258556328,
          5.37114572674575,
          5.82398412550569,
          7.98754162566794,
          5.54594059435848,
          9.97480183376682,
          5.1720560420523,
          3.86847941268536
         ],
         "y0": " ",
         "yaxis": "y"
        },
        {
         "alignmentgroup": "True",
         "hovertemplate": "Country=%{x}<br>GDP Growth (%)=%{y}<extra></extra>",
         "legendgroup": "Arab World",
         "marker": {
          "color": "#00cc96"
         },
         "name": "Arab World",
         "notched": false,
         "offsetgroup": "Arab World",
         "orientation": "v",
         "showlegend": true,
         "type": "box",
         "x": [
          "Arab World",
          "Arab World",
          "Arab World",
          "Arab World",
          "Arab World",
          "Arab World",
          "Arab World",
          "Arab World",
          "Arab World",
          "Arab World",
          "Arab World",
          "Arab World",
          "Arab World",
          "Arab World",
          "Arab World",
          "Arab World",
          "Arab World",
          "Arab World",
          "Arab World",
          "Arab World",
          "Arab World",
          "Arab World",
          "Arab World"
         ],
         "x0": " ",
         "xaxis": "x",
         "y": [
          5.72143310855439,
          4.03110635309368,
          -4.71178424288769,
          1.58371466354251,
          2.63004003510846,
          1.53775331351054,
          3.61430679933925,
          3.24398890309855,
          2.52235146526188,
          2.55032813218976,
          5.00270566095091,
          3.56935121317565,
          4.83646532090719,
          0.649051133166935,
          5.56564270796378,
          4.60990039080701,
          6.29548854125636,
          5.56928709311491,
          9.07659282911011,
          4.28125391037246,
          1.22934163986469,
          2.10310322176423,
          6.35412317112551
         ],
         "y0": " ",
         "yaxis": "y"
        },
        {
         "alignmentgroup": "True",
         "hovertemplate": "Country=%{x}<br>GDP Growth (%)=%{y}<extra></extra>",
         "legendgroup": "Central Europe and the Baltics",
         "marker": {
          "color": "#ab63fa"
         },
         "name": "Central Europe and the Baltics",
         "notched": false,
         "offsetgroup": "Central Europe and the Baltics",
         "orientation": "v",
         "showlegend": true,
         "type": "box",
         "x": [
          "Central Europe and the Baltics",
          "Central Europe and the Baltics",
          "Central Europe and the Baltics",
          "Central Europe and the Baltics",
          "Central Europe and the Baltics",
          "Central Europe and the Baltics",
          "Central Europe and the Baltics",
          "Central Europe and the Baltics",
          "Central Europe and the Baltics",
          "Central Europe and the Baltics",
          "Central Europe and the Baltics",
          "Central Europe and the Baltics",
          "Central Europe and the Baltics",
          "Central Europe and the Baltics",
          "Central Europe and the Baltics",
          "Central Europe and the Baltics",
          "Central Europe and the Baltics",
          "Central Europe and the Baltics",
          "Central Europe and the Baltics",
          "Central Europe and the Baltics",
          "Central Europe and the Baltics",
          "Central Europe and the Baltics",
          "Central Europe and the Baltics"
         ],
         "x0": " ",
         "xaxis": "x",
         "y": [
          4.06723825067937,
          6.53215013007072,
          -3.32906850842642,
          4.00599282190517,
          5.04076378771154,
          5.12137697480723,
          2.78415036769628,
          4.00639231580742,
          3.25214017660038,
          0.64668456756722,
          0.845589815394689,
          3.59592152623043,
          1.53930805872231,
          -3.60788095382297,
          3.9632199903769,
          6.33229844475976,
          6.64238726029618,
          4.90918627805151,
          5.87886441043707,
          4.01261199318792,
          3.54363444170829,
          3.00665160326116,
          3.95383550526198
         ],
         "y0": " ",
         "yaxis": "y"
        },
        {
         "alignmentgroup": "True",
         "hovertemplate": "Country=%{x}<br>GDP Growth (%)=%{y}<extra></extra>",
         "legendgroup": "Early-demographic dividend",
         "marker": {
          "color": "#FFA15A"
         },
         "name": "Early-demographic dividend",
         "notched": false,
         "offsetgroup": "Early-demographic dividend",
         "orientation": "v",
         "showlegend": true,
         "type": "box",
         "x": [
          "Early-demographic dividend",
          "Early-demographic dividend",
          "Early-demographic dividend",
          "Early-demographic dividend",
          "Early-demographic dividend",
          "Early-demographic dividend",
          "Early-demographic dividend",
          "Early-demographic dividend",
          "Early-demographic dividend",
          "Early-demographic dividend",
          "Early-demographic dividend",
          "Early-demographic dividend",
          "Early-demographic dividend",
          "Early-demographic dividend",
          "Early-demographic dividend",
          "Early-demographic dividend",
          "Early-demographic dividend",
          "Early-demographic dividend",
          "Early-demographic dividend",
          "Early-demographic dividend",
          "Early-demographic dividend",
          "Early-demographic dividend",
          "Early-demographic dividend"
         ],
         "x0": " ",
         "xaxis": "x",
         "y": [
          5.52073569774929,
          7.40884629376734,
          -4.17609545858684,
          2.3574434077089,
          3.84249576643026,
          4.64129983314372,
          4.41930591804085,
          4.40566712703041,
          4.12156144710545,
          4.05190664838607,
          4.18319033377952,
          4.92326152689755,
          6.51073733762621,
          0.719539289366949,
          3.44873100040111,
          5.70794322950692,
          6.07469259640115,
          5.88994219002336,
          6.18919942048606,
          5.17077252050709,
          1.92506378535539,
          1.13791167532673,
          4.37206749082193
         ],
         "y0": " ",
         "yaxis": "y"
        },
        {
         "alignmentgroup": "True",
         "hovertemplate": "Country=%{x}<br>GDP Growth (%)=%{y}<extra></extra>",
         "legendgroup": "East Asia & Pacific",
         "marker": {
          "color": "#19d3f3"
         },
         "name": "East Asia & Pacific",
         "notched": false,
         "offsetgroup": "East Asia & Pacific",
         "orientation": "v",
         "showlegend": true,
         "type": "box",
         "x": [
          "East Asia & Pacific",
          "East Asia & Pacific",
          "East Asia & Pacific",
          "East Asia & Pacific",
          "East Asia & Pacific",
          "East Asia & Pacific",
          "East Asia & Pacific",
          "East Asia & Pacific",
          "East Asia & Pacific",
          "East Asia & Pacific",
          "East Asia & Pacific",
          "East Asia & Pacific",
          "East Asia & Pacific",
          "East Asia & Pacific",
          "East Asia & Pacific",
          "East Asia & Pacific",
          "East Asia & Pacific",
          "East Asia & Pacific",
          "East Asia & Pacific",
          "East Asia & Pacific",
          "East Asia & Pacific",
          "East Asia & Pacific",
          "East Asia & Pacific"
         ],
         "x0": " ",
         "xaxis": "x",
         "y": [
          2.86876226114843,
          6.22039997523025,
          -0.134038679931052,
          3.9619148073886,
          4.75999373070705,
          5.05270855932561,
          4.65956958320778,
          4.72850105069584,
          4.7594419439253,
          5.24584532204115,
          5.18379286011772,
          5.46232932958939,
          7.60794406098076,
          2.56424398923119,
          4.38419555679887,
          7.4627250707683,
          6.45425821993668,
          5.89977763977228,
          5.86680026229307,
          4.95001843147213,
          4.37736961694397,
          3.29754357736196,
          5.39753056367897
         ],
         "y0": " ",
         "yaxis": "y"
        },
        {
         "alignmentgroup": "True",
         "hovertemplate": "Country=%{x}<br>GDP Growth (%)=%{y}<extra></extra>",
         "legendgroup": "East Asia & Pacific (excluding high income)",
         "marker": {
          "color": "#FF6692"
         },
         "name": "East Asia & Pacific (excluding high income)",
         "notched": false,
         "offsetgroup": "East Asia & Pacific (excluding high income)",
         "orientation": "v",
         "showlegend": true,
         "type": "box",
         "x": [
          "East Asia & Pacific (excluding high income)",
          "East Asia & Pacific (excluding high income)",
          "East Asia & Pacific (excluding high income)",
          "East Asia & Pacific (excluding high income)",
          "East Asia & Pacific (excluding high income)",
          "East Asia & Pacific (excluding high income)",
          "East Asia & Pacific (excluding high income)",
          "East Asia & Pacific (excluding high income)",
          "East Asia & Pacific (excluding high income)",
          "East Asia & Pacific (excluding high income)",
          "East Asia & Pacific (excluding high income)",
          "East Asia & Pacific (excluding high income)",
          "East Asia & Pacific (excluding high income)",
          "East Asia & Pacific (excluding high income)",
          "East Asia & Pacific (excluding high income)",
          "East Asia & Pacific (excluding high income)",
          "East Asia & Pacific (excluding high income)",
          "East Asia & Pacific (excluding high income)",
          "East Asia & Pacific (excluding high income)",
          "East Asia & Pacific (excluding high income)",
          "East Asia & Pacific (excluding high income)",
          "East Asia & Pacific (excluding high income)",
          "East Asia & Pacific (excluding high income)"
         ],
         "x0": " ",
         "xaxis": "x",
         "y": [
          3.38620985440663,
          7.60232029175252,
          1.24367793672859,
          5.78428146542474,
          6.52793763462201,
          6.70981883545649,
          6.56660651997451,
          6.7076621591339,
          6.98593798407903,
          7.2996544157901,
          7.58079172382864,
          8.64266000909531,
          9.91795678497131,
          7.98946032227489,
          8.61645181547443,
          12.4859301536706,
          11.0785354944514,
          9.97829069370096,
          9.12006671936069,
          8.94775005070616,
          8.05885009286796,
          6.9781783459032,
          7.64776750263762
         ],
         "y0": " ",
         "yaxis": "y"
        },
        {
         "alignmentgroup": "True",
         "hovertemplate": "Country=%{x}<br>GDP Growth (%)=%{y}<extra></extra>",
         "legendgroup": "European Union",
         "marker": {
          "color": "#B6E880"
         },
         "name": "European Union",
         "notched": false,
         "offsetgroup": "European Union",
         "orientation": "v",
         "showlegend": true,
         "type": "box",
         "x": [
          "European Union",
          "European Union",
          "European Union",
          "European Union",
          "European Union",
          "European Union",
          "European Union",
          "European Union",
          "European Union",
          "European Union",
          "European Union",
          "European Union",
          "European Union",
          "European Union",
          "European Union",
          "European Union",
          "European Union",
          "European Union",
          "European Union",
          "European Union",
          "European Union",
          "European Union",
          "European Union"
         ],
         "x0": " ",
         "xaxis": "x",
         "y": [
          3.49770328667265,
          6.35777133410905,
          -5.57692108455981,
          1.87572158216227,
          2.04997185930718,
          2.79546583424752,
          1.94393883094706,
          2.37090122777145,
          1.62845368275879,
          -0.0376262166347772,
          -0.76100990643441,
          1.96076612530862,
          2.18457509275294,
          -4.31086769425157,
          0.623364645808692,
          3.14163477530099,
          3.56506830024634,
          1.98379522989502,
          2.60059472559804,
          0.938285219256002,
          1.09798114623729,
          2.16143780327751,
          3.93453178364808
         ],
         "y0": " ",
         "yaxis": "y"
        }
       ],
       "layout": {
        "boxmode": "overlay",
        "legend": {
         "title": {
          "text": "Country"
         },
         "tracegroupgap": 0
        },
        "plot_bgcolor": "white",
        "template": {
         "data": {
          "bar": [
           {
            "error_x": {
             "color": "#2a3f5f"
            },
            "error_y": {
             "color": "#2a3f5f"
            },
            "marker": {
             "line": {
              "color": "#E5ECF6",
              "width": 0.5
             },
             "pattern": {
              "fillmode": "overlay",
              "size": 10,
              "solidity": 0.2
             }
            },
            "type": "bar"
           }
          ],
          "barpolar": [
           {
            "marker": {
             "line": {
              "color": "#E5ECF6",
              "width": 0.5
             },
             "pattern": {
              "fillmode": "overlay",
              "size": 10,
              "solidity": 0.2
             }
            },
            "type": "barpolar"
           }
          ],
          "carpet": [
           {
            "aaxis": {
             "endlinecolor": "#2a3f5f",
             "gridcolor": "white",
             "linecolor": "white",
             "minorgridcolor": "white",
             "startlinecolor": "#2a3f5f"
            },
            "baxis": {
             "endlinecolor": "#2a3f5f",
             "gridcolor": "white",
             "linecolor": "white",
             "minorgridcolor": "white",
             "startlinecolor": "#2a3f5f"
            },
            "type": "carpet"
           }
          ],
          "choropleth": [
           {
            "colorbar": {
             "outlinewidth": 0,
             "ticks": ""
            },
            "type": "choropleth"
           }
          ],
          "contour": [
           {
            "colorbar": {
             "outlinewidth": 0,
             "ticks": ""
            },
            "colorscale": [
             [
              0,
              "#0d0887"
             ],
             [
              0.1111111111111111,
              "#46039f"
             ],
             [
              0.2222222222222222,
              "#7201a8"
             ],
             [
              0.3333333333333333,
              "#9c179e"
             ],
             [
              0.4444444444444444,
              "#bd3786"
             ],
             [
              0.5555555555555556,
              "#d8576b"
             ],
             [
              0.6666666666666666,
              "#ed7953"
             ],
             [
              0.7777777777777778,
              "#fb9f3a"
             ],
             [
              0.8888888888888888,
              "#fdca26"
             ],
             [
              1,
              "#f0f921"
             ]
            ],
            "type": "contour"
           }
          ],
          "contourcarpet": [
           {
            "colorbar": {
             "outlinewidth": 0,
             "ticks": ""
            },
            "type": "contourcarpet"
           }
          ],
          "heatmap": [
           {
            "colorbar": {
             "outlinewidth": 0,
             "ticks": ""
            },
            "colorscale": [
             [
              0,
              "#0d0887"
             ],
             [
              0.1111111111111111,
              "#46039f"
             ],
             [
              0.2222222222222222,
              "#7201a8"
             ],
             [
              0.3333333333333333,
              "#9c179e"
             ],
             [
              0.4444444444444444,
              "#bd3786"
             ],
             [
              0.5555555555555556,
              "#d8576b"
             ],
             [
              0.6666666666666666,
              "#ed7953"
             ],
             [
              0.7777777777777778,
              "#fb9f3a"
             ],
             [
              0.8888888888888888,
              "#fdca26"
             ],
             [
              1,
              "#f0f921"
             ]
            ],
            "type": "heatmap"
           }
          ],
          "heatmapgl": [
           {
            "colorbar": {
             "outlinewidth": 0,
             "ticks": ""
            },
            "colorscale": [
             [
              0,
              "#0d0887"
             ],
             [
              0.1111111111111111,
              "#46039f"
             ],
             [
              0.2222222222222222,
              "#7201a8"
             ],
             [
              0.3333333333333333,
              "#9c179e"
             ],
             [
              0.4444444444444444,
              "#bd3786"
             ],
             [
              0.5555555555555556,
              "#d8576b"
             ],
             [
              0.6666666666666666,
              "#ed7953"
             ],
             [
              0.7777777777777778,
              "#fb9f3a"
             ],
             [
              0.8888888888888888,
              "#fdca26"
             ],
             [
              1,
              "#f0f921"
             ]
            ],
            "type": "heatmapgl"
           }
          ],
          "histogram": [
           {
            "marker": {
             "pattern": {
              "fillmode": "overlay",
              "size": 10,
              "solidity": 0.2
             }
            },
            "type": "histogram"
           }
          ],
          "histogram2d": [
           {
            "colorbar": {
             "outlinewidth": 0,
             "ticks": ""
            },
            "colorscale": [
             [
              0,
              "#0d0887"
             ],
             [
              0.1111111111111111,
              "#46039f"
             ],
             [
              0.2222222222222222,
              "#7201a8"
             ],
             [
              0.3333333333333333,
              "#9c179e"
             ],
             [
              0.4444444444444444,
              "#bd3786"
             ],
             [
              0.5555555555555556,
              "#d8576b"
             ],
             [
              0.6666666666666666,
              "#ed7953"
             ],
             [
              0.7777777777777778,
              "#fb9f3a"
             ],
             [
              0.8888888888888888,
              "#fdca26"
             ],
             [
              1,
              "#f0f921"
             ]
            ],
            "type": "histogram2d"
           }
          ],
          "histogram2dcontour": [
           {
            "colorbar": {
             "outlinewidth": 0,
             "ticks": ""
            },
            "colorscale": [
             [
              0,
              "#0d0887"
             ],
             [
              0.1111111111111111,
              "#46039f"
             ],
             [
              0.2222222222222222,
              "#7201a8"
             ],
             [
              0.3333333333333333,
              "#9c179e"
             ],
             [
              0.4444444444444444,
              "#bd3786"
             ],
             [
              0.5555555555555556,
              "#d8576b"
             ],
             [
              0.6666666666666666,
              "#ed7953"
             ],
             [
              0.7777777777777778,
              "#fb9f3a"
             ],
             [
              0.8888888888888888,
              "#fdca26"
             ],
             [
              1,
              "#f0f921"
             ]
            ],
            "type": "histogram2dcontour"
           }
          ],
          "mesh3d": [
           {
            "colorbar": {
             "outlinewidth": 0,
             "ticks": ""
            },
            "type": "mesh3d"
           }
          ],
          "parcoords": [
           {
            "line": {
             "colorbar": {
              "outlinewidth": 0,
              "ticks": ""
             }
            },
            "type": "parcoords"
           }
          ],
          "pie": [
           {
            "automargin": true,
            "type": "pie"
           }
          ],
          "scatter": [
           {
            "fillpattern": {
             "fillmode": "overlay",
             "size": 10,
             "solidity": 0.2
            },
            "type": "scatter"
           }
          ],
          "scatter3d": [
           {
            "line": {
             "colorbar": {
              "outlinewidth": 0,
              "ticks": ""
             }
            },
            "marker": {
             "colorbar": {
              "outlinewidth": 0,
              "ticks": ""
             }
            },
            "type": "scatter3d"
           }
          ],
          "scattercarpet": [
           {
            "marker": {
             "colorbar": {
              "outlinewidth": 0,
              "ticks": ""
             }
            },
            "type": "scattercarpet"
           }
          ],
          "scattergeo": [
           {
            "marker": {
             "colorbar": {
              "outlinewidth": 0,
              "ticks": ""
             }
            },
            "type": "scattergeo"
           }
          ],
          "scattergl": [
           {
            "marker": {
             "colorbar": {
              "outlinewidth": 0,
              "ticks": ""
             }
            },
            "type": "scattergl"
           }
          ],
          "scattermapbox": [
           {
            "marker": {
             "colorbar": {
              "outlinewidth": 0,
              "ticks": ""
             }
            },
            "type": "scattermapbox"
           }
          ],
          "scatterpolar": [
           {
            "marker": {
             "colorbar": {
              "outlinewidth": 0,
              "ticks": ""
             }
            },
            "type": "scatterpolar"
           }
          ],
          "scatterpolargl": [
           {
            "marker": {
             "colorbar": {
              "outlinewidth": 0,
              "ticks": ""
             }
            },
            "type": "scatterpolargl"
           }
          ],
          "scatterternary": [
           {
            "marker": {
             "colorbar": {
              "outlinewidth": 0,
              "ticks": ""
             }
            },
            "type": "scatterternary"
           }
          ],
          "surface": [
           {
            "colorbar": {
             "outlinewidth": 0,
             "ticks": ""
            },
            "colorscale": [
             [
              0,
              "#0d0887"
             ],
             [
              0.1111111111111111,
              "#46039f"
             ],
             [
              0.2222222222222222,
              "#7201a8"
             ],
             [
              0.3333333333333333,
              "#9c179e"
             ],
             [
              0.4444444444444444,
              "#bd3786"
             ],
             [
              0.5555555555555556,
              "#d8576b"
             ],
             [
              0.6666666666666666,
              "#ed7953"
             ],
             [
              0.7777777777777778,
              "#fb9f3a"
             ],
             [
              0.8888888888888888,
              "#fdca26"
             ],
             [
              1,
              "#f0f921"
             ]
            ],
            "type": "surface"
           }
          ],
          "table": [
           {
            "cells": {
             "fill": {
              "color": "#EBF0F8"
             },
             "line": {
              "color": "white"
             }
            },
            "header": {
             "fill": {
              "color": "#C8D4E3"
             },
             "line": {
              "color": "white"
             }
            },
            "type": "table"
           }
          ]
         },
         "layout": {
          "annotationdefaults": {
           "arrowcolor": "#2a3f5f",
           "arrowhead": 0,
           "arrowwidth": 1
          },
          "autotypenumbers": "strict",
          "coloraxis": {
           "colorbar": {
            "outlinewidth": 0,
            "ticks": ""
           }
          },
          "colorscale": {
           "diverging": [
            [
             0,
             "#8e0152"
            ],
            [
             0.1,
             "#c51b7d"
            ],
            [
             0.2,
             "#de77ae"
            ],
            [
             0.3,
             "#f1b6da"
            ],
            [
             0.4,
             "#fde0ef"
            ],
            [
             0.5,
             "#f7f7f7"
            ],
            [
             0.6,
             "#e6f5d0"
            ],
            [
             0.7,
             "#b8e186"
            ],
            [
             0.8,
             "#7fbc41"
            ],
            [
             0.9,
             "#4d9221"
            ],
            [
             1,
             "#276419"
            ]
           ],
           "sequential": [
            [
             0,
             "#0d0887"
            ],
            [
             0.1111111111111111,
             "#46039f"
            ],
            [
             0.2222222222222222,
             "#7201a8"
            ],
            [
             0.3333333333333333,
             "#9c179e"
            ],
            [
             0.4444444444444444,
             "#bd3786"
            ],
            [
             0.5555555555555556,
             "#d8576b"
            ],
            [
             0.6666666666666666,
             "#ed7953"
            ],
            [
             0.7777777777777778,
             "#fb9f3a"
            ],
            [
             0.8888888888888888,
             "#fdca26"
            ],
            [
             1,
             "#f0f921"
            ]
           ],
           "sequentialminus": [
            [
             0,
             "#0d0887"
            ],
            [
             0.1111111111111111,
             "#46039f"
            ],
            [
             0.2222222222222222,
             "#7201a8"
            ],
            [
             0.3333333333333333,
             "#9c179e"
            ],
            [
             0.4444444444444444,
             "#bd3786"
            ],
            [
             0.5555555555555556,
             "#d8576b"
            ],
            [
             0.6666666666666666,
             "#ed7953"
            ],
            [
             0.7777777777777778,
             "#fb9f3a"
            ],
            [
             0.8888888888888888,
             "#fdca26"
            ],
            [
             1,
             "#f0f921"
            ]
           ]
          },
          "colorway": [
           "#636efa",
           "#EF553B",
           "#00cc96",
           "#ab63fa",
           "#FFA15A",
           "#19d3f3",
           "#FF6692",
           "#B6E880",
           "#FF97FF",
           "#FECB52"
          ],
          "font": {
           "color": "#2a3f5f"
          },
          "geo": {
           "bgcolor": "white",
           "lakecolor": "white",
           "landcolor": "#E5ECF6",
           "showlakes": true,
           "showland": true,
           "subunitcolor": "white"
          },
          "hoverlabel": {
           "align": "left"
          },
          "hovermode": "closest",
          "mapbox": {
           "style": "light"
          },
          "paper_bgcolor": "white",
          "plot_bgcolor": "#E5ECF6",
          "polar": {
           "angularaxis": {
            "gridcolor": "white",
            "linecolor": "white",
            "ticks": ""
           },
           "bgcolor": "#E5ECF6",
           "radialaxis": {
            "gridcolor": "white",
            "linecolor": "white",
            "ticks": ""
           }
          },
          "scene": {
           "xaxis": {
            "backgroundcolor": "#E5ECF6",
            "gridcolor": "white",
            "gridwidth": 2,
            "linecolor": "white",
            "showbackground": true,
            "ticks": "",
            "zerolinecolor": "white"
           },
           "yaxis": {
            "backgroundcolor": "#E5ECF6",
            "gridcolor": "white",
            "gridwidth": 2,
            "linecolor": "white",
            "showbackground": true,
            "ticks": "",
            "zerolinecolor": "white"
           },
           "zaxis": {
            "backgroundcolor": "#E5ECF6",
            "gridcolor": "white",
            "gridwidth": 2,
            "linecolor": "white",
            "showbackground": true,
            "ticks": "",
            "zerolinecolor": "white"
           }
          },
          "shapedefaults": {
           "line": {
            "color": "#2a3f5f"
           }
          },
          "ternary": {
           "aaxis": {
            "gridcolor": "white",
            "linecolor": "white",
            "ticks": ""
           },
           "baxis": {
            "gridcolor": "white",
            "linecolor": "white",
            "ticks": ""
           },
           "bgcolor": "#E5ECF6",
           "caxis": {
            "gridcolor": "white",
            "linecolor": "white",
            "ticks": ""
           }
          },
          "title": {
           "x": 0.05
          },
          "xaxis": {
           "automargin": true,
           "gridcolor": "white",
           "linecolor": "white",
           "ticks": "",
           "title": {
            "standoff": 15
           },
           "zerolinecolor": "white",
           "zerolinewidth": 2
          },
          "yaxis": {
           "automargin": true,
           "gridcolor": "white",
           "linecolor": "white",
           "ticks": "",
           "title": {
            "standoff": 15
           },
           "zerolinecolor": "white",
           "zerolinewidth": 2
          }
         }
        },
        "title": {
         "text": "Distribution of GDP Growth (%) by Country"
        },
        "xaxis": {
         "anchor": "y",
         "categoryarray": [
          "Africa Eastern and Southern",
          "Africa Western and Central",
          "Arab World",
          "Central Europe and the Baltics",
          "Early-demographic dividend",
          "East Asia & Pacific",
          "East Asia & Pacific (excluding high income)",
          "European Union"
         ],
         "categoryorder": "array",
         "domain": [
          0,
          1
         ],
         "title": {
          "text": "Country"
         }
        },
        "yaxis": {
         "anchor": "x",
         "domain": [
          0,
          1
         ],
         "title": {
          "text": "GDP Growth (%)"
         }
        }
       }
      },
      "text/html": [
       "<div>                            <div id=\"ae43d03e-aa4b-4a5a-9e36-5bf4b2da51fd\" class=\"plotly-graph-div\" style=\"height:525px; width:100%;\"></div>            <script type=\"text/javascript\">                require([\"plotly\"], function(Plotly) {                    window.PLOTLYENV=window.PLOTLYENV || {};                                    if (document.getElementById(\"ae43d03e-aa4b-4a5a-9e36-5bf4b2da51fd\")) {                    Plotly.newPlot(                        \"ae43d03e-aa4b-4a5a-9e36-5bf4b2da51fd\",                        [{\"alignmentgroup\":\"True\",\"hovertemplate\":\"Country=%{x}<br>GDP Growth (%)=%{y}<extra></extra>\",\"legendgroup\":\"Africa Eastern and Southern\",\"marker\":{\"color\":\"#636efa\"},\"name\":\"Africa Eastern and Southern\",\"notched\":false,\"offsetgroup\":\"Africa Eastern and Southern\",\"orientation\":\"v\",\"showlegend\":true,\"x\":[\"Africa Eastern and Southern\",\"Africa Eastern and Southern\",\"Africa Eastern and Southern\",\"Africa Eastern and Southern\",\"Africa Eastern and Southern\",\"Africa Eastern and Southern\",\"Africa Eastern and Southern\",\"Africa Eastern and Southern\",\"Africa Eastern and Southern\",\"Africa Eastern and Southern\",\"Africa Eastern and Southern\",\"Africa Eastern and Southern\",\"Africa Eastern and Southern\",\"Africa Eastern and Southern\",\"Africa Eastern and Southern\",\"Africa Eastern and Southern\",\"Africa Eastern and Southern\",\"Africa Eastern and Southern\",\"Africa Eastern and Southern\",\"Africa Eastern and Southern\",\"Africa Eastern and Southern\",\"Africa Eastern and Southern\",\"Africa Eastern and Southern\"],\"x0\":\" \",\"xaxis\":\"x\",\"y\":[3.5538783639465,4.57639280212379,-2.86429251059899,2.19431852727669,2.66663182841025,2.68454305378008,2.19476089054338,3.00493689926236,3.99286255244824,4.34145784484552,1.74687118542334,4.06494136637872,5.23163580247821,0.87098396360399,4.36818668473381,6.64702099527723,6.57787371800819,6.16338004310487,5.55539685526702,2.95624126239153,3.83607799272289,3.50572646872058,3.21494609894005],\"y0\":\" \",\"yaxis\":\"y\",\"type\":\"box\"},{\"alignmentgroup\":\"True\",\"hovertemplate\":\"Country=%{x}<br>GDP Growth (%)=%{y}<extra></extra>\",\"legendgroup\":\"Africa Western and Central\",\"marker\":{\"color\":\"#EF553B\"},\"name\":\"Africa Western and Central\",\"notched\":false,\"offsetgroup\":\"Africa Western and Central\",\"orientation\":\"v\",\"showlegend\":true,\"x\":[\"Africa Western and Central\",\"Africa Western and Central\",\"Africa Western and Central\",\"Africa Western and Central\",\"Africa Western and Central\",\"Africa Western and Central\",\"Africa Western and Central\",\"Africa Western and Central\",\"Africa Western and Central\",\"Africa Western and Central\",\"Africa Western and Central\",\"Africa Western and Central\",\"Africa Western and Central\",\"Africa Western and Central\",\"Africa Western and Central\",\"Africa Western and Central\",\"Africa Western and Central\",\"Africa Western and Central\",\"Africa Western and Central\",\"Africa Western and Central\",\"Africa Western and Central\",\"Africa Western and Central\",\"Africa Western and Central\"],\"x0\":\" \",\"xaxis\":\"x\",\"y\":[3.78967984579947,4.03762951350967,-1.00399403959297,3.232902511937,2.84475541662378,2.28981037958782,0.160782096930689,2.72036453616364,5.92002296138435,6.16002884290569,5.16821883676933,4.85302784241522,6.96952403983727,6.27187828235533,6.27862923104867,5.53076258556328,5.37114572674575,5.82398412550569,7.98754162566794,5.54594059435848,9.97480183376682,5.1720560420523,3.86847941268536],\"y0\":\" \",\"yaxis\":\"y\",\"type\":\"box\"},{\"alignmentgroup\":\"True\",\"hovertemplate\":\"Country=%{x}<br>GDP Growth (%)=%{y}<extra></extra>\",\"legendgroup\":\"Arab World\",\"marker\":{\"color\":\"#00cc96\"},\"name\":\"Arab World\",\"notched\":false,\"offsetgroup\":\"Arab World\",\"orientation\":\"v\",\"showlegend\":true,\"x\":[\"Arab World\",\"Arab World\",\"Arab World\",\"Arab World\",\"Arab World\",\"Arab World\",\"Arab World\",\"Arab World\",\"Arab World\",\"Arab World\",\"Arab World\",\"Arab World\",\"Arab World\",\"Arab World\",\"Arab World\",\"Arab World\",\"Arab World\",\"Arab World\",\"Arab World\",\"Arab World\",\"Arab World\",\"Arab World\",\"Arab World\"],\"x0\":\" \",\"xaxis\":\"x\",\"y\":[5.72143310855439,4.03110635309368,-4.71178424288769,1.58371466354251,2.63004003510846,1.53775331351054,3.61430679933925,3.24398890309855,2.52235146526188,2.55032813218976,5.00270566095091,3.56935121317565,4.83646532090719,0.649051133166935,5.56564270796378,4.60990039080701,6.29548854125636,5.56928709311491,9.07659282911011,4.28125391037246,1.22934163986469,2.10310322176423,6.35412317112551],\"y0\":\" \",\"yaxis\":\"y\",\"type\":\"box\"},{\"alignmentgroup\":\"True\",\"hovertemplate\":\"Country=%{x}<br>GDP Growth (%)=%{y}<extra></extra>\",\"legendgroup\":\"Central Europe and the Baltics\",\"marker\":{\"color\":\"#ab63fa\"},\"name\":\"Central Europe and the Baltics\",\"notched\":false,\"offsetgroup\":\"Central Europe and the Baltics\",\"orientation\":\"v\",\"showlegend\":true,\"x\":[\"Central Europe and the Baltics\",\"Central Europe and the Baltics\",\"Central Europe and the Baltics\",\"Central Europe and the Baltics\",\"Central Europe and the Baltics\",\"Central Europe and the Baltics\",\"Central Europe and the Baltics\",\"Central Europe and the Baltics\",\"Central Europe and the Baltics\",\"Central Europe and the Baltics\",\"Central Europe and the Baltics\",\"Central Europe and the Baltics\",\"Central Europe and the Baltics\",\"Central Europe and the Baltics\",\"Central Europe and the Baltics\",\"Central Europe and the Baltics\",\"Central Europe and the Baltics\",\"Central Europe and the Baltics\",\"Central Europe and the Baltics\",\"Central Europe and the Baltics\",\"Central Europe and the Baltics\",\"Central Europe and the Baltics\",\"Central Europe and the Baltics\"],\"x0\":\" \",\"xaxis\":\"x\",\"y\":[4.06723825067937,6.53215013007072,-3.32906850842642,4.00599282190517,5.04076378771154,5.12137697480723,2.78415036769628,4.00639231580742,3.25214017660038,0.64668456756722,0.845589815394689,3.59592152623043,1.53930805872231,-3.60788095382297,3.9632199903769,6.33229844475976,6.64238726029618,4.90918627805151,5.87886441043707,4.01261199318792,3.54363444170829,3.00665160326116,3.95383550526198],\"y0\":\" \",\"yaxis\":\"y\",\"type\":\"box\"},{\"alignmentgroup\":\"True\",\"hovertemplate\":\"Country=%{x}<br>GDP Growth (%)=%{y}<extra></extra>\",\"legendgroup\":\"Early-demographic dividend\",\"marker\":{\"color\":\"#FFA15A\"},\"name\":\"Early-demographic dividend\",\"notched\":false,\"offsetgroup\":\"Early-demographic dividend\",\"orientation\":\"v\",\"showlegend\":true,\"x\":[\"Early-demographic dividend\",\"Early-demographic dividend\",\"Early-demographic dividend\",\"Early-demographic dividend\",\"Early-demographic dividend\",\"Early-demographic dividend\",\"Early-demographic dividend\",\"Early-demographic dividend\",\"Early-demographic dividend\",\"Early-demographic dividend\",\"Early-demographic dividend\",\"Early-demographic dividend\",\"Early-demographic dividend\",\"Early-demographic dividend\",\"Early-demographic dividend\",\"Early-demographic dividend\",\"Early-demographic dividend\",\"Early-demographic dividend\",\"Early-demographic dividend\",\"Early-demographic dividend\",\"Early-demographic dividend\",\"Early-demographic dividend\",\"Early-demographic dividend\"],\"x0\":\" \",\"xaxis\":\"x\",\"y\":[5.52073569774929,7.40884629376734,-4.17609545858684,2.3574434077089,3.84249576643026,4.64129983314372,4.41930591804085,4.40566712703041,4.12156144710545,4.05190664838607,4.18319033377952,4.92326152689755,6.51073733762621,0.719539289366949,3.44873100040111,5.70794322950692,6.07469259640115,5.88994219002336,6.18919942048606,5.17077252050709,1.92506378535539,1.13791167532673,4.37206749082193],\"y0\":\" \",\"yaxis\":\"y\",\"type\":\"box\"},{\"alignmentgroup\":\"True\",\"hovertemplate\":\"Country=%{x}<br>GDP Growth (%)=%{y}<extra></extra>\",\"legendgroup\":\"East Asia & Pacific\",\"marker\":{\"color\":\"#19d3f3\"},\"name\":\"East Asia & Pacific\",\"notched\":false,\"offsetgroup\":\"East Asia & Pacific\",\"orientation\":\"v\",\"showlegend\":true,\"x\":[\"East Asia & Pacific\",\"East Asia & Pacific\",\"East Asia & Pacific\",\"East Asia & Pacific\",\"East Asia & Pacific\",\"East Asia & Pacific\",\"East Asia & Pacific\",\"East Asia & Pacific\",\"East Asia & Pacific\",\"East Asia & Pacific\",\"East Asia & Pacific\",\"East Asia & Pacific\",\"East Asia & Pacific\",\"East Asia & Pacific\",\"East Asia & Pacific\",\"East Asia & Pacific\",\"East Asia & Pacific\",\"East Asia & Pacific\",\"East Asia & Pacific\",\"East Asia & Pacific\",\"East Asia & Pacific\",\"East Asia & Pacific\",\"East Asia & Pacific\"],\"x0\":\" \",\"xaxis\":\"x\",\"y\":[2.86876226114843,6.22039997523025,-0.134038679931052,3.9619148073886,4.75999373070705,5.05270855932561,4.65956958320778,4.72850105069584,4.7594419439253,5.24584532204115,5.18379286011772,5.46232932958939,7.60794406098076,2.56424398923119,4.38419555679887,7.4627250707683,6.45425821993668,5.89977763977228,5.86680026229307,4.95001843147213,4.37736961694397,3.29754357736196,5.39753056367897],\"y0\":\" \",\"yaxis\":\"y\",\"type\":\"box\"},{\"alignmentgroup\":\"True\",\"hovertemplate\":\"Country=%{x}<br>GDP Growth (%)=%{y}<extra></extra>\",\"legendgroup\":\"East Asia & Pacific (excluding high income)\",\"marker\":{\"color\":\"#FF6692\"},\"name\":\"East Asia & Pacific (excluding high income)\",\"notched\":false,\"offsetgroup\":\"East Asia & Pacific (excluding high income)\",\"orientation\":\"v\",\"showlegend\":true,\"x\":[\"East Asia & Pacific (excluding high income)\",\"East Asia & Pacific (excluding high income)\",\"East Asia & Pacific (excluding high income)\",\"East Asia & Pacific (excluding high income)\",\"East Asia & Pacific (excluding high income)\",\"East Asia & Pacific (excluding high income)\",\"East Asia & Pacific (excluding high income)\",\"East Asia & Pacific (excluding high income)\",\"East Asia & Pacific (excluding high income)\",\"East Asia & Pacific (excluding high income)\",\"East Asia & Pacific (excluding high income)\",\"East Asia & Pacific (excluding high income)\",\"East Asia & Pacific (excluding high income)\",\"East Asia & Pacific (excluding high income)\",\"East Asia & Pacific (excluding high income)\",\"East Asia & Pacific (excluding high income)\",\"East Asia & Pacific (excluding high income)\",\"East Asia & Pacific (excluding high income)\",\"East Asia & Pacific (excluding high income)\",\"East Asia & Pacific (excluding high income)\",\"East Asia & Pacific (excluding high income)\",\"East Asia & Pacific (excluding high income)\",\"East Asia & Pacific (excluding high income)\"],\"x0\":\" \",\"xaxis\":\"x\",\"y\":[3.38620985440663,7.60232029175252,1.24367793672859,5.78428146542474,6.52793763462201,6.70981883545649,6.56660651997451,6.7076621591339,6.98593798407903,7.2996544157901,7.58079172382864,8.64266000909531,9.91795678497131,7.98946032227489,8.61645181547443,12.4859301536706,11.0785354944514,9.97829069370096,9.12006671936069,8.94775005070616,8.05885009286796,6.9781783459032,7.64776750263762],\"y0\":\" \",\"yaxis\":\"y\",\"type\":\"box\"},{\"alignmentgroup\":\"True\",\"hovertemplate\":\"Country=%{x}<br>GDP Growth (%)=%{y}<extra></extra>\",\"legendgroup\":\"European Union\",\"marker\":{\"color\":\"#B6E880\"},\"name\":\"European Union\",\"notched\":false,\"offsetgroup\":\"European Union\",\"orientation\":\"v\",\"showlegend\":true,\"x\":[\"European Union\",\"European Union\",\"European Union\",\"European Union\",\"European Union\",\"European Union\",\"European Union\",\"European Union\",\"European Union\",\"European Union\",\"European Union\",\"European Union\",\"European Union\",\"European Union\",\"European Union\",\"European Union\",\"European Union\",\"European Union\",\"European Union\",\"European Union\",\"European Union\",\"European Union\",\"European Union\"],\"x0\":\" \",\"xaxis\":\"x\",\"y\":[3.49770328667265,6.35777133410905,-5.57692108455981,1.87572158216227,2.04997185930718,2.79546583424752,1.94393883094706,2.37090122777145,1.62845368275879,-0.0376262166347772,-0.76100990643441,1.96076612530862,2.18457509275294,-4.31086769425157,0.623364645808692,3.14163477530099,3.56506830024634,1.98379522989502,2.60059472559804,0.938285219256002,1.09798114623729,2.16143780327751,3.93453178364808],\"y0\":\" \",\"yaxis\":\"y\",\"type\":\"box\"}],                        {\"template\":{\"data\":{\"histogram2dcontour\":[{\"type\":\"histogram2dcontour\",\"colorbar\":{\"outlinewidth\":0,\"ticks\":\"\"},\"colorscale\":[[0.0,\"#0d0887\"],[0.1111111111111111,\"#46039f\"],[0.2222222222222222,\"#7201a8\"],[0.3333333333333333,\"#9c179e\"],[0.4444444444444444,\"#bd3786\"],[0.5555555555555556,\"#d8576b\"],[0.6666666666666666,\"#ed7953\"],[0.7777777777777778,\"#fb9f3a\"],[0.8888888888888888,\"#fdca26\"],[1.0,\"#f0f921\"]]}],\"choropleth\":[{\"type\":\"choropleth\",\"colorbar\":{\"outlinewidth\":0,\"ticks\":\"\"}}],\"histogram2d\":[{\"type\":\"histogram2d\",\"colorbar\":{\"outlinewidth\":0,\"ticks\":\"\"},\"colorscale\":[[0.0,\"#0d0887\"],[0.1111111111111111,\"#46039f\"],[0.2222222222222222,\"#7201a8\"],[0.3333333333333333,\"#9c179e\"],[0.4444444444444444,\"#bd3786\"],[0.5555555555555556,\"#d8576b\"],[0.6666666666666666,\"#ed7953\"],[0.7777777777777778,\"#fb9f3a\"],[0.8888888888888888,\"#fdca26\"],[1.0,\"#f0f921\"]]}],\"heatmap\":[{\"type\":\"heatmap\",\"colorbar\":{\"outlinewidth\":0,\"ticks\":\"\"},\"colorscale\":[[0.0,\"#0d0887\"],[0.1111111111111111,\"#46039f\"],[0.2222222222222222,\"#7201a8\"],[0.3333333333333333,\"#9c179e\"],[0.4444444444444444,\"#bd3786\"],[0.5555555555555556,\"#d8576b\"],[0.6666666666666666,\"#ed7953\"],[0.7777777777777778,\"#fb9f3a\"],[0.8888888888888888,\"#fdca26\"],[1.0,\"#f0f921\"]]}],\"heatmapgl\":[{\"type\":\"heatmapgl\",\"colorbar\":{\"outlinewidth\":0,\"ticks\":\"\"},\"colorscale\":[[0.0,\"#0d0887\"],[0.1111111111111111,\"#46039f\"],[0.2222222222222222,\"#7201a8\"],[0.3333333333333333,\"#9c179e\"],[0.4444444444444444,\"#bd3786\"],[0.5555555555555556,\"#d8576b\"],[0.6666666666666666,\"#ed7953\"],[0.7777777777777778,\"#fb9f3a\"],[0.8888888888888888,\"#fdca26\"],[1.0,\"#f0f921\"]]}],\"contourcarpet\":[{\"type\":\"contourcarpet\",\"colorbar\":{\"outlinewidth\":0,\"ticks\":\"\"}}],\"contour\":[{\"type\":\"contour\",\"colorbar\":{\"outlinewidth\":0,\"ticks\":\"\"},\"colorscale\":[[0.0,\"#0d0887\"],[0.1111111111111111,\"#46039f\"],[0.2222222222222222,\"#7201a8\"],[0.3333333333333333,\"#9c179e\"],[0.4444444444444444,\"#bd3786\"],[0.5555555555555556,\"#d8576b\"],[0.6666666666666666,\"#ed7953\"],[0.7777777777777778,\"#fb9f3a\"],[0.8888888888888888,\"#fdca26\"],[1.0,\"#f0f921\"]]}],\"surface\":[{\"type\":\"surface\",\"colorbar\":{\"outlinewidth\":0,\"ticks\":\"\"},\"colorscale\":[[0.0,\"#0d0887\"],[0.1111111111111111,\"#46039f\"],[0.2222222222222222,\"#7201a8\"],[0.3333333333333333,\"#9c179e\"],[0.4444444444444444,\"#bd3786\"],[0.5555555555555556,\"#d8576b\"],[0.6666666666666666,\"#ed7953\"],[0.7777777777777778,\"#fb9f3a\"],[0.8888888888888888,\"#fdca26\"],[1.0,\"#f0f921\"]]}],\"mesh3d\":[{\"type\":\"mesh3d\",\"colorbar\":{\"outlinewidth\":0,\"ticks\":\"\"}}],\"scatter\":[{\"fillpattern\":{\"fillmode\":\"overlay\",\"size\":10,\"solidity\":0.2},\"type\":\"scatter\"}],\"parcoords\":[{\"type\":\"parcoords\",\"line\":{\"colorbar\":{\"outlinewidth\":0,\"ticks\":\"\"}}}],\"scatterpolargl\":[{\"type\":\"scatterpolargl\",\"marker\":{\"colorbar\":{\"outlinewidth\":0,\"ticks\":\"\"}}}],\"bar\":[{\"error_x\":{\"color\":\"#2a3f5f\"},\"error_y\":{\"color\":\"#2a3f5f\"},\"marker\":{\"line\":{\"color\":\"#E5ECF6\",\"width\":0.5},\"pattern\":{\"fillmode\":\"overlay\",\"size\":10,\"solidity\":0.2}},\"type\":\"bar\"}],\"scattergeo\":[{\"type\":\"scattergeo\",\"marker\":{\"colorbar\":{\"outlinewidth\":0,\"ticks\":\"\"}}}],\"scatterpolar\":[{\"type\":\"scatterpolar\",\"marker\":{\"colorbar\":{\"outlinewidth\":0,\"ticks\":\"\"}}}],\"histogram\":[{\"marker\":{\"pattern\":{\"fillmode\":\"overlay\",\"size\":10,\"solidity\":0.2}},\"type\":\"histogram\"}],\"scattergl\":[{\"type\":\"scattergl\",\"marker\":{\"colorbar\":{\"outlinewidth\":0,\"ticks\":\"\"}}}],\"scatter3d\":[{\"type\":\"scatter3d\",\"line\":{\"colorbar\":{\"outlinewidth\":0,\"ticks\":\"\"}},\"marker\":{\"colorbar\":{\"outlinewidth\":0,\"ticks\":\"\"}}}],\"scattermapbox\":[{\"type\":\"scattermapbox\",\"marker\":{\"colorbar\":{\"outlinewidth\":0,\"ticks\":\"\"}}}],\"scatterternary\":[{\"type\":\"scatterternary\",\"marker\":{\"colorbar\":{\"outlinewidth\":0,\"ticks\":\"\"}}}],\"scattercarpet\":[{\"type\":\"scattercarpet\",\"marker\":{\"colorbar\":{\"outlinewidth\":0,\"ticks\":\"\"}}}],\"carpet\":[{\"aaxis\":{\"endlinecolor\":\"#2a3f5f\",\"gridcolor\":\"white\",\"linecolor\":\"white\",\"minorgridcolor\":\"white\",\"startlinecolor\":\"#2a3f5f\"},\"baxis\":{\"endlinecolor\":\"#2a3f5f\",\"gridcolor\":\"white\",\"linecolor\":\"white\",\"minorgridcolor\":\"white\",\"startlinecolor\":\"#2a3f5f\"},\"type\":\"carpet\"}],\"table\":[{\"cells\":{\"fill\":{\"color\":\"#EBF0F8\"},\"line\":{\"color\":\"white\"}},\"header\":{\"fill\":{\"color\":\"#C8D4E3\"},\"line\":{\"color\":\"white\"}},\"type\":\"table\"}],\"barpolar\":[{\"marker\":{\"line\":{\"color\":\"#E5ECF6\",\"width\":0.5},\"pattern\":{\"fillmode\":\"overlay\",\"size\":10,\"solidity\":0.2}},\"type\":\"barpolar\"}],\"pie\":[{\"automargin\":true,\"type\":\"pie\"}]},\"layout\":{\"autotypenumbers\":\"strict\",\"colorway\":[\"#636efa\",\"#EF553B\",\"#00cc96\",\"#ab63fa\",\"#FFA15A\",\"#19d3f3\",\"#FF6692\",\"#B6E880\",\"#FF97FF\",\"#FECB52\"],\"font\":{\"color\":\"#2a3f5f\"},\"hovermode\":\"closest\",\"hoverlabel\":{\"align\":\"left\"},\"paper_bgcolor\":\"white\",\"plot_bgcolor\":\"#E5ECF6\",\"polar\":{\"bgcolor\":\"#E5ECF6\",\"angularaxis\":{\"gridcolor\":\"white\",\"linecolor\":\"white\",\"ticks\":\"\"},\"radialaxis\":{\"gridcolor\":\"white\",\"linecolor\":\"white\",\"ticks\":\"\"}},\"ternary\":{\"bgcolor\":\"#E5ECF6\",\"aaxis\":{\"gridcolor\":\"white\",\"linecolor\":\"white\",\"ticks\":\"\"},\"baxis\":{\"gridcolor\":\"white\",\"linecolor\":\"white\",\"ticks\":\"\"},\"caxis\":{\"gridcolor\":\"white\",\"linecolor\":\"white\",\"ticks\":\"\"}},\"coloraxis\":{\"colorbar\":{\"outlinewidth\":0,\"ticks\":\"\"}},\"colorscale\":{\"sequential\":[[0.0,\"#0d0887\"],[0.1111111111111111,\"#46039f\"],[0.2222222222222222,\"#7201a8\"],[0.3333333333333333,\"#9c179e\"],[0.4444444444444444,\"#bd3786\"],[0.5555555555555556,\"#d8576b\"],[0.6666666666666666,\"#ed7953\"],[0.7777777777777778,\"#fb9f3a\"],[0.8888888888888888,\"#fdca26\"],[1.0,\"#f0f921\"]],\"sequentialminus\":[[0.0,\"#0d0887\"],[0.1111111111111111,\"#46039f\"],[0.2222222222222222,\"#7201a8\"],[0.3333333333333333,\"#9c179e\"],[0.4444444444444444,\"#bd3786\"],[0.5555555555555556,\"#d8576b\"],[0.6666666666666666,\"#ed7953\"],[0.7777777777777778,\"#fb9f3a\"],[0.8888888888888888,\"#fdca26\"],[1.0,\"#f0f921\"]],\"diverging\":[[0,\"#8e0152\"],[0.1,\"#c51b7d\"],[0.2,\"#de77ae\"],[0.3,\"#f1b6da\"],[0.4,\"#fde0ef\"],[0.5,\"#f7f7f7\"],[0.6,\"#e6f5d0\"],[0.7,\"#b8e186\"],[0.8,\"#7fbc41\"],[0.9,\"#4d9221\"],[1,\"#276419\"]]},\"xaxis\":{\"gridcolor\":\"white\",\"linecolor\":\"white\",\"ticks\":\"\",\"title\":{\"standoff\":15},\"zerolinecolor\":\"white\",\"automargin\":true,\"zerolinewidth\":2},\"yaxis\":{\"gridcolor\":\"white\",\"linecolor\":\"white\",\"ticks\":\"\",\"title\":{\"standoff\":15},\"zerolinecolor\":\"white\",\"automargin\":true,\"zerolinewidth\":2},\"scene\":{\"xaxis\":{\"backgroundcolor\":\"#E5ECF6\",\"gridcolor\":\"white\",\"linecolor\":\"white\",\"showbackground\":true,\"ticks\":\"\",\"zerolinecolor\":\"white\",\"gridwidth\":2},\"yaxis\":{\"backgroundcolor\":\"#E5ECF6\",\"gridcolor\":\"white\",\"linecolor\":\"white\",\"showbackground\":true,\"ticks\":\"\",\"zerolinecolor\":\"white\",\"gridwidth\":2},\"zaxis\":{\"backgroundcolor\":\"#E5ECF6\",\"gridcolor\":\"white\",\"linecolor\":\"white\",\"showbackground\":true,\"ticks\":\"\",\"zerolinecolor\":\"white\",\"gridwidth\":2}},\"shapedefaults\":{\"line\":{\"color\":\"#2a3f5f\"}},\"annotationdefaults\":{\"arrowcolor\":\"#2a3f5f\",\"arrowhead\":0,\"arrowwidth\":1},\"geo\":{\"bgcolor\":\"white\",\"landcolor\":\"#E5ECF6\",\"subunitcolor\":\"white\",\"showland\":true,\"showlakes\":true,\"lakecolor\":\"white\"},\"title\":{\"x\":0.05},\"mapbox\":{\"style\":\"light\"}}},\"xaxis\":{\"anchor\":\"y\",\"domain\":[0.0,1.0],\"title\":{\"text\":\"Country\"},\"categoryorder\":\"array\",\"categoryarray\":[\"Africa Eastern and Southern\",\"Africa Western and Central\",\"Arab World\",\"Central Europe and the Baltics\",\"Early-demographic dividend\",\"East Asia & Pacific\",\"East Asia & Pacific (excluding high income)\",\"European Union\"]},\"yaxis\":{\"anchor\":\"x\",\"domain\":[0.0,1.0],\"title\":{\"text\":\"GDP Growth (%)\"}},\"legend\":{\"title\":{\"text\":\"Country\"},\"tracegroupgap\":0},\"title\":{\"text\":\"Distribution of GDP Growth (%) by Country\"},\"boxmode\":\"overlay\",\"plot_bgcolor\":\"white\"},                        {\"responsive\": true}                    ).then(function(){\n",
       "                            \n",
       "var gd = document.getElementById('ae43d03e-aa4b-4a5a-9e36-5bf4b2da51fd');\n",
       "var x = new MutationObserver(function (mutations, observer) {{\n",
       "        var display = window.getComputedStyle(gd).display;\n",
       "        if (!display || display === 'none') {{\n",
       "            console.log([gd, 'removed!']);\n",
       "            Plotly.purge(gd);\n",
       "            observer.disconnect();\n",
       "        }}\n",
       "}});\n",
       "\n",
       "// Listen for the removal of the full notebook cells\n",
       "var notebookContainer = gd.closest('#notebook-container');\n",
       "if (notebookContainer) {{\n",
       "    x.observe(notebookContainer, {childList: true});\n",
       "}}\n",
       "\n",
       "// Listen for the clearing of the current output cell\n",
       "var outputEl = gd.closest('.output');\n",
       "if (outputEl) {{\n",
       "    x.observe(outputEl, {childList: true});\n",
       "}}\n",
       "\n",
       "                        })                };                });            </script>        </div>"
      ]
     },
     "metadata": {},
     "output_type": "display_data"
    }
   ],
   "source": [
    "# Creating Side by Side Box plots for the GDP Growth of 8 countries.\n",
    "# Countries Code include: 'ZH', 'ZI', '1A', 'S3', 'B8', 'V2', 'Z4', '4E'\n",
    "\n",
    "import plotly.express as px\n",
    "import matplotlib.pyplot as plt\n",
    "\n",
    "codes = ['ZH', 'ZI', '1A', 'EU', 'B8', 'V2', 'Z4', '4E']\n",
    "filtered_data = merged_df[merged_df['Code'].isin(codes)]\n",
    "\n",
    "# filtered_data.head(69)\n",
    "\n",
    "fig = px.box(filtered_data, \n",
    "             x = 'Country',\n",
    "             y = 'GDP Growth (%)',\n",
    "             title = 'Distribution of GDP Growth (%) by Country',\n",
    "             labels = {'x': 'Country', 'y': 'GDP Growth (%)'},\n",
    "             color = 'Country',\n",
    "             )\n",
    "fig.update_layout(\n",
    "    plot_bgcolor = 'white')\n",
    "\n",
    "fig.show()"
   ]
  },
  {
   "cell_type": "markdown",
   "id": "ff93b3ef-a41d-4c04-b625-524831ff2987",
   "metadata": {},
   "source": [
    "The above data set is mostly clean and I hope in the future to continue adding more coloumns with more statstics. I hope to use machine learning to predict all of the statistics but 1, 5, and 10 years into the future. I have plenty of numerical features from GDP to unemployment rate to inflation rate and for categorical data I have the country as well as the year. I believe I can predict the values into the future using the machine learning method of logistic regression. Although I am not familiar with this machine learning method, I would like to explore the idea of using neural networks to hopefully categorize the different countries and group them together based on their economic statistics. "
   ]
  }
 ],
 "metadata": {
  "kernelspec": {
   "display_name": "Python 3 (ipykernel)",
   "language": "python",
   "name": "python3"
  },
  "language_info": {
   "codemirror_mode": {
    "name": "ipython",
    "version": 3
   },
   "file_extension": ".py",
   "mimetype": "text/x-python",
   "name": "python",
   "nbconvert_exporter": "python",
   "pygments_lexer": "ipython3",
   "version": "3.11.5"
  }
 },
 "nbformat": 4,
 "nbformat_minor": 5
}
