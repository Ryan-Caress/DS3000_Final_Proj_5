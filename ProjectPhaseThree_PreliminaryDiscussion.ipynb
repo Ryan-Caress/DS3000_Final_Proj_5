{
 "cells": [
  {
   "cell_type": "markdown",
   "id": "c44d737e-11e2-4fc8-9b72-742ddaace1a9",
   "metadata": {},
   "source": [
    "# Preliminary Discussion + Ethics of the project\n",
    "\n",
    "We tested whether Foreign Direct Investment (FDI) could be used to predict GDP Growth (%) using linear regression models built for five different regions. We used historical data from the World Bank and created filtered datasets for Africa Eastern and Southern, Latin America & Caribbean, Europe & Central Asia, Middle East & North Africa, and East Asia & Pacific. The models were designed to test whether FDI alone could be a useful predictor, and we used basic error metrics like R² and Mean Squared Error (MSE) to evaluate model performance. Since the model only had one predictor, this phase was meant to be a first step — not to build a perfect fit, but to understand whether any clear linear relationship existed between these two variables.\n",
    "\n",
    "The model results showed that FDI on its own is not a reliable predictor of GDP Growth. In every region, R² was close to zero or negative, meaning the model didn’t explain much, if any, of the variance in GDP growth. In fact, negative R² values across all five regions indicate that the predictions were worse than simply using the regional mean GDP growth as a baseline. For example, the R² in Africa Eastern and Southern was -1.648, and in Latin America & Caribbean it was -1.145. Even the best-performing model, in East Asia & Pacific, had an R² of -0.042. MSE scores also confirmed that error was relatively high and inconsistent, depending on the region. These values collectively suggest that GDP growth is driven by far more than just FDI, and any signal that might exist is likely non-linear, inconsistent across time, or both.\n",
    "\n",
    "We ran diagnostic plots to test how well the models met the assumptions behind linear regression. Residuals vs. fitted value plots showed clear signs of structure — in many cases, the residuals were clustered or fanned out, indicating the errors weren’t evenly distributed and the model may have missed key nonlinear trends. The residuals vs. order plots sometimes showed subtle time-based patterns, which suggests there may be unaccounted-for temporal effects. In some regions, the residuals seemed to trend upward or downward depending on the order of the data points. Histograms of residuals were not symmetric in several cases, and the Q-Q plots frequently deviated from the line, confirming that the residuals weren’t normally distributed. Altogether, these plots showed that multiple assumptions were violated — including linearity, independence, and normality — which helps explain the poor fit.\n",
    "\n",
    "These findings reinforce that GDP growth is not something that can be modeled accurately using FDI alone, especially across entire regions that group together very different countries. The fact that residual plots often showed clear structure means that there may be other influencing variables that weren’t included. A model assuming a consistent, linear relationship between FDI and GDP is likely too simple. These early results are useful because they point us toward the limitations of relying on a single metric and emphasize the need to consider additional economic, political, and social factors.\n",
    "\n",
    "There are also important ethical issues to acknowledge when working with this type of model. First, there's the risk of misinterpretation — a model with a clearly poor fit can still look convincing if presented out of context. Readers might assume there's a direct, causal link between FDI and GDP Growth, when in reality the model shows otherwise. Second, data reported to the World Bank can vary in accuracy and completeness between countries and across years, which could influence results in subtle ways. Third, treating entire regions as homogenous units can hide important country-specific dynamics, especially in regions with a wide range of economies and political systems. These kinds of generalizations can lead to conclusions that don’t actually reflect what’s happening on the ground in individual countries. Lastly, using data like this for predictive modeling requires careful framing — the goal should be to explore patterns and test assumptions, not to draw policy conclusions from an oversimplified model.\n"
   ]
  }
 ],
 "metadata": {
  "kernelspec": {
   "display_name": "Python 3 (ipykernel)",
   "language": "python",
   "name": "python3"
  },
  "language_info": {
   "codemirror_mode": {
    "name": "ipython",
    "version": 3
   },
   "file_extension": ".py",
   "mimetype": "text/x-python",
   "name": "python",
   "nbconvert_exporter": "python",
   "pygments_lexer": "ipython3",
   "version": "3.10.11"
  }
 },
 "nbformat": 4,
 "nbformat_minor": 5
}
